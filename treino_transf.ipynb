{
  "nbformat": 4,
  "nbformat_minor": 0,
  "metadata": {
    "kernelspec": {
      "display_name": "Python 3",
      "language": "python",
      "name": "python3"
    },
    "language_info": {
      "codemirror_mode": {
        "name": "ipython",
        "version": 3
      },
      "file_extension": ".py",
      "mimetype": "text/x-python",
      "name": "python",
      "nbconvert_exporter": "python",
      "pygments_lexer": "ipython3",
      "version": "3.8.6"
    },
    "colab": {
      "name": "treino_transf.ipynb",
      "provenance": [],
      "collapsed_sections": [],
      "include_colab_link": true
    },
    "accelerator": "GPU"
  },
  "cells": [
    {
      "cell_type": "markdown",
      "metadata": {
        "id": "view-in-github",
        "colab_type": "text"
      },
      "source": [
        "<a href=\"https://colab.research.google.com/github/rafaelrlima/cat-and-dog/blob/main/treino_transf.ipynb\" target=\"_parent\"><img src=\"https://colab.research.google.com/assets/colab-badge.svg\" alt=\"Open In Colab\"/></a>"
      ]
    },
    {
      "cell_type": "markdown",
      "metadata": {
        "id": "ixqUpIqWB460"
      },
      "source": [
        "# treino_transf.ipynb\n",
        "\n"
      ]
    },
    {
      "cell_type": "markdown",
      "metadata": {
        "id": "E0SLvp2Ijig3"
      },
      "source": [
        "#### Montando o drive"
      ]
    },
    {
      "cell_type": "code",
      "metadata": {
        "colab": {
          "base_uri": "https://localhost:8080/"
        },
        "id": "nrKFwYrDjn6Y",
        "outputId": "2eb8d945-0e20-408f-857c-051326129b8b"
      },
      "source": [
        "from google.colab import drive\n",
        "drive.mount('/content/drive')"
      ],
      "execution_count": null,
      "outputs": [
        {
          "output_type": "stream",
          "text": [
            "Drive already mounted at /content/drive; to attempt to forcibly remount, call drive.mount(\"/content/drive\", force_remount=True).\n"
          ],
          "name": "stdout"
        }
      ]
    },
    {
      "cell_type": "markdown",
      "metadata": {
        "id": "L4u-MDGdGs3K"
      },
      "source": [
        "#### Imports utilizados"
      ]
    },
    {
      "cell_type": "code",
      "metadata": {
        "id": "aVvbFgrGjig7"
      },
      "source": [
        "import os \n",
        "import fnmatch\n",
        "import zipfile \n",
        "import tensorflow as tf \n",
        "from tensorflow.keras.preprocessing.image import ImageDataGenerator\n",
        "import tensorflow.keras as keras \n",
        "from tensorflow.keras import layers \n",
        "from tensorflow.keras import Model \n",
        "import matplotlib.pyplot as plt\n",
        "import cv2"
      ],
      "execution_count": null,
      "outputs": []
    },
    {
      "cell_type": "markdown",
      "metadata": {
        "id": "MG1sxWMmG0cB"
      },
      "source": [
        "#### Separando os diretórios e carregando algumas variáveis"
      ]
    },
    {
      "cell_type": "code",
      "metadata": {
        "id": "NRbScpwejig9"
      },
      "source": [
        "base_dir = '/content/drive/MyDrive/Colab Notebooks/dog-and-cat'\n",
        "#base_dir = './dog-and-cat/'\n",
        "train_dir = os.path.join(base_dir, 'training_set/')\n",
        "test_dir = os.path.join(base_dir, 'test_set')\n",
        "validation_dir = os.path.join(base_dir, 'validation_set')\n"
      ],
      "execution_count": null,
      "outputs": []
    },
    {
      "cell_type": "code",
      "metadata": {
        "scrolled": true,
        "id": "wPGgJ9c8jig9"
      },
      "source": [
        "# Set up matplotlib fig, and size it to fit 4x4 pics\n",
        "import matplotlib.image as mpimg\n",
        "nrows = 4\n",
        "ncols = 4\n",
        "\n",
        "width = 224\n",
        "height = 224\n",
        "dim = (width, height)\n",
        "\n",
        "batch_size = 20\n",
        "total_train = 8000\n",
        "total_val = 1000\n",
        "epochs = 20\n",
        "NUM_CLASSES = 2\n"
      ],
      "execution_count": null,
      "outputs": []
    },
    {
      "cell_type": "markdown",
      "metadata": {
        "id": "L9W4aEwvG4sI"
      },
      "source": [
        "#### Obtendo as imagens do dataset para gerar as predições"
      ]
    },
    {
      "cell_type": "code",
      "metadata": {
        "id": "j_r0C57Pjig_"
      },
      "source": [
        "train_datagen = ImageDataGenerator(rescale = 1./255., rotation_range = 40, width_shift_range = 0.2, height_shift_range = 0.2, shear_range = 0.2, zoom_range = 0.2, horizontal_flip = True)\n",
        "\n",
        "test_datagen = ImageDataGenerator(rescale = 1.0/255.)\n",
        "\n",
        "validation_datagen = ImageDataGenerator(rescale = 1.0/255.)"
      ],
      "execution_count": null,
      "outputs": []
    },
    {
      "cell_type": "code",
      "metadata": {
        "colab": {
          "base_uri": "https://localhost:8080/"
        },
        "id": "tzvDALj3jig_",
        "outputId": "449fcc09-8dc2-40c1-80ff-f3c82b7de09d"
      },
      "source": [
        "train_generator = train_datagen.flow_from_directory(train_dir, batch_size = 20, class_mode = 'categorical', target_size = (224, 224))\n",
        "\n",
        "test_generator = test_datagen.flow_from_directory( test_dir,  batch_size = 20, class_mode = 'categorical', target_size = (224, 224))\n",
        "\n",
        "validation_generator = validation_datagen.flow_from_directory( validation_dir,  batch_size = 20, class_mode = 'categorical', target_size = (224, 224))"
      ],
      "execution_count": null,
      "outputs": [
        {
          "output_type": "stream",
          "text": [
            "Found 8000 images belonging to 2 classes.\n",
            "Found 1000 images belonging to 2 classes.\n",
            "Found 1000 images belonging to 2 classes.\n"
          ],
          "name": "stdout"
        }
      ]
    },
    {
      "cell_type": "markdown",
      "metadata": {
        "id": "VADuKl4BG8YY"
      },
      "source": [
        "#### Obtendo o modelo pré treinado"
      ]
    },
    {
      "cell_type": "code",
      "metadata": {
        "id": "sWF_3s2AjihA"
      },
      "source": [
        "#### vgg16\n",
        "\n",
        "from tensorflow.keras.applications.vgg16 import VGG16\n",
        "\n",
        "model = VGG16(input_shape = (224, 224, 3), \n",
        "include_top = False,\n",
        "weights = 'imagenet')\n",
        "\n",
        "for layer in model.layers:\n",
        "    layer.trainable = False\n",
        "\n",
        "x = layers.Flatten()(model.output)\n",
        "x = layers.Dense(512, activation='relu')(x)\n",
        "x = layers.Dropout(0.5)(x)\n",
        "x = layers.Dense(2, activation='softmax')(x)\n",
        "model = tf.keras.models.Model(model.input, x)\n",
        "\n",
        "#### ResNet50\n",
        "\n",
        "#from tensorflow.keras.applications import ResNet50\n",
        "#from tensorflow.python.keras.models import Sequential\n",
        "#from tensorflow.python.keras.layers import Dense, Flatten, GlobalAveragePooling2D\n",
        "#model = ResNet50(input_shape=(224, 224,3), include_top=False, weights=\"imagenet\")\n",
        "#for layer in model.layers:\n",
        "#    layer.trainable = False\n",
        "#model = Sequential()\n",
        "#model.add(ResNet50(include_top=False, weights='imagenet', pooling='max'))\n",
        "#model.add(Dense(2, activation='softmax'))\n"
      ],
      "execution_count": null,
      "outputs": []
    },
    {
      "cell_type": "markdown",
      "metadata": {
        "id": "C_3WmkrRlSQQ"
      },
      "source": [
        "#### Compilando o Modelo"
      ]
    },
    {
      "cell_type": "code",
      "metadata": {
        "id": "A8K19IhElW3w"
      },
      "source": [
        "#model.compile(optimizer = tf.keras.optimizers.RMSprop(learning_rate=0.0001), loss = 'binary_crossentropy',metrics = ['acc'])\n",
        "model.compile(optimizer = tf.keras.optimizers.Adam(learning_rate=0.0001), loss = 'binary_crossentropy',metrics = ['acc'])"
      ],
      "execution_count": null,
      "outputs": []
    },
    {
      "cell_type": "markdown",
      "metadata": {
        "id": "NylWSQyRHChI"
      },
      "source": [
        "#### Sumário modelo compilado"
      ]
    },
    {
      "cell_type": "code",
      "metadata": {
        "colab": {
          "base_uri": "https://localhost:8080/"
        },
        "id": "2pfFJquKlfSE",
        "outputId": "1f245b7d-70ed-42f5-ab8f-c12f290775ac"
      },
      "source": [
        "model.summary()"
      ],
      "execution_count": null,
      "outputs": [
        {
          "output_type": "stream",
          "text": [
            "Model: \"model\"\n",
            "_________________________________________________________________\n",
            "Layer (type)                 Output Shape              Param #   \n",
            "=================================================================\n",
            "input_1 (InputLayer)         [(None, 224, 224, 3)]     0         \n",
            "_________________________________________________________________\n",
            "block1_conv1 (Conv2D)        (None, 224, 224, 64)      1792      \n",
            "_________________________________________________________________\n",
            "block1_conv2 (Conv2D)        (None, 224, 224, 64)      36928     \n",
            "_________________________________________________________________\n",
            "block1_pool (MaxPooling2D)   (None, 112, 112, 64)      0         \n",
            "_________________________________________________________________\n",
            "block2_conv1 (Conv2D)        (None, 112, 112, 128)     73856     \n",
            "_________________________________________________________________\n",
            "block2_conv2 (Conv2D)        (None, 112, 112, 128)     147584    \n",
            "_________________________________________________________________\n",
            "block2_pool (MaxPooling2D)   (None, 56, 56, 128)       0         \n",
            "_________________________________________________________________\n",
            "block3_conv1 (Conv2D)        (None, 56, 56, 256)       295168    \n",
            "_________________________________________________________________\n",
            "block3_conv2 (Conv2D)        (None, 56, 56, 256)       590080    \n",
            "_________________________________________________________________\n",
            "block3_conv3 (Conv2D)        (None, 56, 56, 256)       590080    \n",
            "_________________________________________________________________\n",
            "block3_pool (MaxPooling2D)   (None, 28, 28, 256)       0         \n",
            "_________________________________________________________________\n",
            "block4_conv1 (Conv2D)        (None, 28, 28, 512)       1180160   \n",
            "_________________________________________________________________\n",
            "block4_conv2 (Conv2D)        (None, 28, 28, 512)       2359808   \n",
            "_________________________________________________________________\n",
            "block4_conv3 (Conv2D)        (None, 28, 28, 512)       2359808   \n",
            "_________________________________________________________________\n",
            "block4_pool (MaxPooling2D)   (None, 14, 14, 512)       0         \n",
            "_________________________________________________________________\n",
            "block5_conv1 (Conv2D)        (None, 14, 14, 512)       2359808   \n",
            "_________________________________________________________________\n",
            "block5_conv2 (Conv2D)        (None, 14, 14, 512)       2359808   \n",
            "_________________________________________________________________\n",
            "block5_conv3 (Conv2D)        (None, 14, 14, 512)       2359808   \n",
            "_________________________________________________________________\n",
            "block5_pool (MaxPooling2D)   (None, 7, 7, 512)         0         \n",
            "_________________________________________________________________\n",
            "flatten (Flatten)            (None, 25088)             0         \n",
            "_________________________________________________________________\n",
            "dense (Dense)                (None, 512)               12845568  \n",
            "_________________________________________________________________\n",
            "dropout (Dropout)            (None, 512)               0         \n",
            "_________________________________________________________________\n",
            "dense_1 (Dense)              (None, 2)                 1026      \n",
            "=================================================================\n",
            "Total params: 27,561,282\n",
            "Trainable params: 12,846,594\n",
            "Non-trainable params: 14,714,688\n",
            "_________________________________________________________________\n"
          ],
          "name": "stdout"
        }
      ]
    },
    {
      "cell_type": "markdown",
      "metadata": {
        "id": "2mSTZ68DMfOH"
      },
      "source": [
        "#### Treinando o Modelo"
      ]
    },
    {
      "cell_type": "code",
      "metadata": {
        "id": "DD_VuzDPHa6z",
        "colab": {
          "base_uri": "https://localhost:8080/"
        },
        "outputId": "17c16513-254f-4957-a5fa-4b53ea680c75"
      },
      "source": [
        "history = model.fit(\n",
        "          train_generator,\n",
        "          steps_per_epoch = total_train // batch_size,\n",
        "          epochs=epochs,\n",
        "          validation_data = validation_generator,\n",
        "          validation_steps= total_val // batch_size)"
      ],
      "execution_count": null,
      "outputs": [
        {
          "output_type": "stream",
          "text": [
            "Epoch 1/20\n",
            "400/400 [==============================] - 112s 280ms/step - loss: 0.1765 - acc: 0.9249 - val_loss: 0.1433 - val_acc: 0.9500\n",
            "Epoch 2/20\n",
            "400/400 [==============================] - 112s 280ms/step - loss: 0.1813 - acc: 0.9261 - val_loss: 0.1438 - val_acc: 0.9480\n",
            "Epoch 3/20\n",
            "400/400 [==============================] - 111s 278ms/step - loss: 0.1729 - acc: 0.9279 - val_loss: 0.1431 - val_acc: 0.9490\n",
            "Epoch 4/20\n",
            "400/400 [==============================] - 110s 276ms/step - loss: 0.1800 - acc: 0.9229 - val_loss: 0.1463 - val_acc: 0.9500\n",
            "Epoch 5/20\n",
            "400/400 [==============================] - 111s 277ms/step - loss: 0.1785 - acc: 0.9266 - val_loss: 0.1434 - val_acc: 0.9430\n",
            "Epoch 6/20\n",
            "400/400 [==============================] - 111s 277ms/step - loss: 0.1762 - acc: 0.9264 - val_loss: 0.1509 - val_acc: 0.9440\n",
            "Epoch 7/20\n",
            "400/400 [==============================] - 111s 277ms/step - loss: 0.1718 - acc: 0.9268 - val_loss: 0.1475 - val_acc: 0.9460\n",
            "Epoch 8/20\n",
            "400/400 [==============================] - 110s 275ms/step - loss: 0.1705 - acc: 0.9308 - val_loss: 0.1462 - val_acc: 0.9420\n",
            "Epoch 9/20\n",
            "400/400 [==============================] - 110s 274ms/step - loss: 0.1748 - acc: 0.9271 - val_loss: 0.1417 - val_acc: 0.9490\n",
            "Epoch 10/20\n",
            "400/400 [==============================] - 111s 278ms/step - loss: 0.1766 - acc: 0.9271 - val_loss: 0.1487 - val_acc: 0.9430\n",
            "Epoch 11/20\n",
            "400/400 [==============================] - 112s 279ms/step - loss: 0.1753 - acc: 0.9258 - val_loss: 0.1517 - val_acc: 0.9430\n",
            "Epoch 12/20\n",
            "400/400 [==============================] - 112s 279ms/step - loss: 0.1684 - acc: 0.9265 - val_loss: 0.1492 - val_acc: 0.9470\n",
            "Epoch 13/20\n",
            "400/400 [==============================] - 112s 279ms/step - loss: 0.1673 - acc: 0.9314 - val_loss: 0.1511 - val_acc: 0.9450\n",
            "Epoch 14/20\n",
            "400/400 [==============================] - 112s 280ms/step - loss: 0.1741 - acc: 0.9274 - val_loss: 0.1710 - val_acc: 0.9340\n",
            "Epoch 15/20\n",
            "400/400 [==============================] - 112s 280ms/step - loss: 0.1714 - acc: 0.9265 - val_loss: 0.1415 - val_acc: 0.9450\n",
            "Epoch 16/20\n",
            "400/400 [==============================] - 112s 281ms/step - loss: 0.1687 - acc: 0.9273 - val_loss: 0.1408 - val_acc: 0.9470\n",
            "Epoch 17/20\n",
            "400/400 [==============================] - 112s 281ms/step - loss: 0.1673 - acc: 0.9308 - val_loss: 0.1661 - val_acc: 0.9390\n",
            "Epoch 18/20\n",
            "400/400 [==============================] - 112s 280ms/step - loss: 0.1677 - acc: 0.9293 - val_loss: 0.1502 - val_acc: 0.9420\n",
            "Epoch 19/20\n",
            "400/400 [==============================] - 112s 280ms/step - loss: 0.1620 - acc: 0.9314 - val_loss: 0.1547 - val_acc: 0.9470\n",
            "Epoch 20/20\n",
            "400/400 [==============================] - 112s 281ms/step - loss: 0.1683 - acc: 0.9275 - val_loss: 0.1473 - val_acc: 0.9470\n"
          ],
          "name": "stdout"
        }
      ]
    },
    {
      "cell_type": "markdown",
      "metadata": {
        "id": "HJjfA8vjMjHB"
      },
      "source": [
        "#### Salvando o Modelo"
      ]
    },
    {
      "cell_type": "code",
      "metadata": {
        "id": "8Jn34hBarOl4"
      },
      "source": [
        "model.save('/content/drive/MyDrive/Colab Notebooks/transf.h5')"
      ],
      "execution_count": null,
      "outputs": []
    },
    {
      "cell_type": "markdown",
      "metadata": {
        "id": "kt9n9pRFHI9W"
      },
      "source": [
        "#### Plotando evolução para verificar se ocorreu overfitting"
      ]
    },
    {
      "cell_type": "code",
      "metadata": {
        "id": "hylSmBFbhy2H",
        "colab": {
          "base_uri": "https://localhost:8080/",
          "height": 200
        },
        "outputId": "ad12686e-8dc0-4656-fd83-4b21cdc8056a"
      },
      "source": [
        "plt.figure(1, figsize = (15,8)) \n",
        "    \n",
        "plt.subplot(221)  \n",
        "plt.plot(history.history['acc'])  \n",
        "plt.plot(history.history['val_acc'])  \n",
        "plt.title('model accuracy')  \n",
        "plt.ylabel('accuracy')  \n",
        "plt.xlabel('epoch')  \n",
        "plt.legend(['train', 'valid']) \n",
        "    \n",
        "plt.subplot(222)  \n",
        "plt.plot(history.history['loss'])  \n",
        "plt.plot(history.history['val_loss'])  \n",
        "plt.title('model loss')  \n",
        "plt.ylabel('loss')  \n",
        "plt.xlabel('epoch')  \n",
        "plt.legend(['train', 'valid']) \n",
        "plt.savefig(\"/content/drive/MyDrive/Colab Notebooks/treino_transf.png\")\n",
        "plt.show()"
      ],
      "execution_count": null,
      "outputs": [
        {
          "output_type": "display_data",
          "data": {
            "image/png": "[encoded data removed]",
            "text/plain": [
              "<Figure size 1080x576 with 2 Axes>"
            ]
          },
          "metadata": {
            "tags": [],
            "needs_background": "light"
          }
        }
      ]
    }
  ]
}
{
  "nbformat": 4,
  "nbformat_minor": 0,
  "metadata": {
    "accelerator": "GPU",
    "colab": {
      "name": "treino_zero.ipynb",
      "provenance": [],
      "collapsed_sections": [],
      "include_colab_link": true
    },
    "kernelspec": {
      "display_name": "Python 3",
      "language": "python",
      "name": "python3"
    },
    "language_info": {
      "codemirror_mode": {
        "name": "ipython",
        "version": 3
      },
      "file_extension": ".py",
      "mimetype": "text/x-python",
      "name": "python",
      "nbconvert_exporter": "python",
      "pygments_lexer": "ipython3",
      "version": "3.8.6"
    }
  },
  "cells": [
    {
      "cell_type": "markdown",
      "metadata": {
        "id": "view-in-github",
        "colab_type": "text"
      },
      "source": [
        "<a href=\"https://colab.research.google.com/github/rafaelrlima/cat-and-dog/blob/main/treino_zero.ipynb\" target=\"_parent\"><img src=\"https://colab.research.google.com/assets/colab-badge.svg\" alt=\"Open In Colab\"/></a>"
      ]
    },
    {
      "cell_type": "markdown",
      "metadata": {
        "id": "tSuA3RWB5zIq"
      },
      "source": [
        "# treino_zero.ipynb\n"
      ]
    },
    {
      "cell_type": "code",
      "metadata": {
        "colab": {
          "base_uri": "https://localhost:8080/"
        },
        "id": "UrkaD6U5tPZt",
        "outputId": "d44f1ce9-8022-44da-945e-0f19c592a710"
      },
      "source": [
        "from google.colab import drive\n",
        "drive.mount('/content/drive')"
      ],
      "execution_count": null,
      "outputs": [
        {
          "output_type": "stream",
          "text": [
            "Mounted at /content/drive\n"
          ],
          "name": "stdout"
        }
      ]
    },
    {
      "cell_type": "code",
      "metadata": {
        "id": "BvJ9M90atCw_"
      },
      "source": [
        "import numpy as np\n",
        "from PIL import Image\n",
        "from matplotlib import pyplot as plt\n",
        "import os\n",
        "import fnmatch\n",
        "import cv2\n",
        "import pandas as pd\n",
        "import warnings\n",
        "warnings.filterwarnings('ignore')"
      ],
      "execution_count": null,
      "outputs": []
    },
    {
      "cell_type": "code",
      "metadata": {
        "id": "NrwUQuHrtCxG"
      },
      "source": [
        "# This is a function for finding images in my file \n",
        "def find_files(directory, pattern):\n",
        "    for root, dirs, files in os.walk(directory):\n",
        "        for basename in files:\n",
        "            if fnmatch.fnmatch(basename, pattern):\n",
        "                filename = os.path.join(root, basename)\n",
        "                yield filename"
      ],
      "execution_count": null,
      "outputs": []
    },
    {
      "cell_type": "markdown",
      "metadata": {
        "id": "eMoL53qTtCxH"
      },
      "source": [
        "#### Criando Array Test Cats"
      ]
    },
    {
      "cell_type": "code",
      "metadata": {
        "colab": {
          "base_uri": "https://localhost:8080/",
          "height": 267
        },
        "id": "PfsyRzRXtCxI",
        "outputId": "c2ccfda3-8f13-487c-9dc5-4970bb165c2d"
      },
      "source": [
        "filename = '/content/drive/MyDrive/Colab Notebooks/dog-and-cat/test_set/cats'\n",
        "cat_files_test=[] # empty list \n",
        "for filename in find_files(filename,\"*jpg\"): # Defined function begin to magic show\n",
        "    file,ext = os.path.split(filename)\n",
        "    img = Image.open(filename)\n",
        "    img = img.resize((50,50), Image.ANTIALIAS) # Arrange images size 64x64\n",
        "    data = np.array( img,np.uint8) # Convert images to matrix\n",
        "    data=data.sum(axis=2) # This code deacrease column two from three for each array\n",
        "    cat_files_test.append(data) \n",
        "#    np.save(\"cat0\",data)\n",
        "#    c = np.load(\"cat0.npy\")\n",
        "#    cat_files_test.append(c)  \n",
        "np.asarray(cat_files_test) # Convert list to array\n",
        "#np.save(\"cat_test\",cat_files_test) # final form \n",
        "#plt.imshow(cat_files_test[0].reshape(64,64))\n",
        "plt.imshow(cat_files_test[0], cmap=\"gray\")\n",
        "plt.show()"
      ],
      "execution_count": null,
      "outputs": [
        {
          "output_type": "display_data",
          "data": {
            "image/png": "[encoded data removed]",
            "text/plain": [
              "<Figure size 432x288 with 1 Axes>"
            ]
          },
          "metadata": {
            "tags": []
          }
        }
      ]
    },
    {
      "cell_type": "markdown",
      "metadata": {
        "id": "o6Kk6LsEtCxJ"
      },
      "source": [
        "#### Criando Array Train Cats"
      ]
    },
    {
      "cell_type": "code",
      "metadata": {
        "colab": {
          "background_save": true,
          "base_uri": "https://localhost:8080/",
          "height": 267
        },
        "id": "hpng8VlktCxK",
        "outputId": "aef8b67b-56bf-40a5-fa44-f258b7246434"
      },
      "source": [
        "filename = '/content/drive/MyDrive/Colab Notebooks/dog-and-cat/training_set/cats'\n",
        "cat_files_train=[] # empty list \n",
        "for filename in find_files(filename,\"*jpg\"): # Defined function begin to magic show\n",
        "    file,ext = os.path.split(filename)\n",
        "    img = Image.open(filename)\n",
        "    img = img.resize((50,50), Image.ANTIALIAS) # Arrange images size 64x64\n",
        "    data = np.array( img,np.uint8) # Convert images to matrix\n",
        "    data=data.sum(axis=2) # This code deacrease column two from three for each array\n",
        "    cat_files_train.append(data)\n",
        "#    np.save(\"cat1\",data)\n",
        "#    c = np.load(\"cat1.npy\")\n",
        "#    cat_files_train.append(c)  \n",
        "np.asarray(cat_files_train) # Convert list to array\n",
        "#np.save(\"cat_train\",cat_files_train) # final form \n",
        "#plt.imshow(cat_files_train[0].reshape(64,64))\n",
        "plt.imshow(cat_files_train[0], cmap=\"gray\")\n",
        "plt.show()"
      ],
      "execution_count": null,
      "outputs": [
        {
          "output_type": "display_data",
          "data": {
            "image/png": "[encoded data removed]",
            "text/plain": [
              "<Figure size 432x288 with 1 Axes>"
            ]
          },
          "metadata": {
            "tags": []
          }
        }
      ]
    },
    {
      "cell_type": "markdown",
      "metadata": {
        "id": "qes-PNROzfGn"
      },
      "source": [
        "#### Criando Array Validation Cats"
      ]
    },
    {
      "cell_type": "code",
      "metadata": {
        "colab": {
          "background_save": true
        },
        "id": "xaD2W2_BzoUN",
        "outputId": "d14dcf1d-c531-4787-d508-ea7f5196c8da"
      },
      "source": [
        "filename = '/content/drive/MyDrive/Colab Notebooks/dog-and-cat/validation_set/cats'\n",
        "cat_files_valid=[] # empty list \n",
        "for filename in find_files(filename,\"*jpg\"): # Defined function begin to magic show\n",
        "    file,ext = os.path.split(filename)\n",
        "    img = Image.open(filename)\n",
        "    img = img.resize((50,50), Image.ANTIALIAS) # Arrange images size 64x64\n",
        "    data = np.array( img,np.uint8) # Convert images to matrix\n",
        "    data=data.sum(axis=2) # This code deacrease column two from three for each array\n",
        "    cat_files_valid.append(data)\n",
        "#    np.save(\"cat1\",data)\n",
        "#    c = np.load(\"cat1.npy\")\n",
        "#    cat_files_train.append(c)  \n",
        "np.asarray(cat_files_valid) # Convert list to array\n",
        "#np.save(\"cat_train\",cat_files_train) # final form \n",
        "#plt.imshow(cat_files_train[0].reshape(64,64))\n",
        "plt.imshow(cat_files_valid[0], cmap=\"gray\")\n",
        "plt.show()"
      ],
      "execution_count": null,
      "outputs": [
        {
          "output_type": "display_data",
          "data": {
            "image/png": "[encoded data removed]",
            "text/plain": [
              "<Figure size 432x288 with 1 Axes>"
            ]
          },
          "metadata": {
            "tags": []
          }
        }
      ]
    },
    {
      "cell_type": "markdown",
      "metadata": {
        "id": "8JL6W_eWtCxL"
      },
      "source": [
        "#### Criando Array Test Dogs"
      ]
    },
    {
      "cell_type": "code",
      "metadata": {
        "id": "9gISLFPStCxL",
        "colab": {
          "base_uri": "https://localhost:8080/",
          "height": 267
        },
        "outputId": "55c2751e-7e4d-4153-8cb2-1eba052b5472"
      },
      "source": [
        "filename = '/content/drive/MyDrive/Colab Notebooks/dog-and-cat/test_set/dogs'\n",
        "dog_files_test=[] # empty list \n",
        "for filename in find_files(filename,\"*jpg\"): # Defined function begin to magic show\n",
        "    file,ext = os.path.split(filename)\n",
        "    img = Image.open(filename)\n",
        "    img = img.resize((50,50), Image.ANTIALIAS) # Arrange images size 64x64\n",
        "    data = np.array( img,np.uint8) # Convert images to matrix\n",
        "    data=data.sum(axis=2) # This code deacrease column two from three for each array\n",
        "    dog_files_test.append(data)\n",
        "#    np.save(\"dog0\",data)\n",
        "#    c = np.load(\"dog0.npy\")\n",
        "#    dog_files_test.append(c)  \n",
        "np.asarray(dog_files_test) # Convert list to array\n",
        "#np.save(\"dog_test\",dog_files_test) # final form \n",
        "#plt.imshow(dog_files_test[0].reshape(64,64))\n",
        "plt.imshow(dog_files_test[0], cmap=\"gray\")\n",
        "plt.show()"
      ],
      "execution_count": null,
      "outputs": [
        {
          "output_type": "display_data",
          "data": {
            "image/png": "[encoded data removed]",
            "text/plain": [
              "<Figure size 432x288 with 1 Axes>"
            ]
          },
          "metadata": {
            "tags": [],
            "needs_background": "light"
          }
        }
      ]
    },
    {
      "cell_type": "markdown",
      "metadata": {
        "id": "ztHF11OBtCxM"
      },
      "source": [
        "#### Criando Array Train Dogs"
      ]
    },
    {
      "cell_type": "code",
      "metadata": {
        "id": "8XirkmdwtCxM",
        "colab": {
          "base_uri": "https://localhost:8080/",
          "height": 267
        },
        "outputId": "bab7e273-b46f-4e43-edac-d143400ace02"
      },
      "source": [
        "filename = '/content/drive/MyDrive/Colab Notebooks/dog-and-cat/training_set/dogs'\n",
        "dog_files_train=[] # empty list \n",
        "for filename in find_files(filename,\"*jpg\"): # Defined function begin to magic show\n",
        "    file,ext = os.path.split(filename)\n",
        "    img = Image.open(filename)\n",
        "    img = img.resize((50,50), Image.ANTIALIAS) # Arrange images size 64x64\n",
        "    data = np.array( img,np.uint8) # Convert images to matrix\n",
        "    data=data.sum(axis=2) # This code deacrease column two from three for each array\n",
        "    dog_files_train.append(data)\n",
        "#    np.save(\"dog1\",data)\n",
        "#    c = np.load(\"dog1.npy\")\n",
        "#    dog_files_train.append(c)  \n",
        "np.asarray(dog_files_train) # Convert list to array\n",
        "#np.save(\"dog_train\",dog_files_train) # final form \n",
        "#plt.imshow(dog_files_train[0].reshape(64,64))\n",
        "plt.imshow(dog_files_train[0], cmap=\"gray\")\n",
        "plt.show()"
      ],
      "execution_count": null,
      "outputs": [
        {
          "output_type": "display_data",
          "data": {
            "image/png": "[encoded data removed]",
            "text/plain": [
              "<Figure size 432x288 with 1 Axes>"
            ]
          },
          "metadata": {
            "tags": [],
            "needs_background": "light"
          }
        }
      ]
    },
    {
      "cell_type": "markdown",
      "metadata": {
        "id": "NjENfTLiz_tr"
      },
      "source": [
        "#### Criando Array Validation Dogs"
      ]
    },
    {
      "cell_type": "code",
      "metadata": {
        "id": "iYAxo34a0Kkr",
        "colab": {
          "base_uri": "https://localhost:8080/",
          "height": 267
        },
        "outputId": "6faab722-955d-416c-e30d-deea6b8d973e"
      },
      "source": [
        "filename = '/content/drive/MyDrive/Colab Notebooks/dog-and-cat/validation_set/dogs'\n",
        "dog_files_valid=[] # empty list \n",
        "for filename in find_files(filename,\"*jpg\"): # Defined function begin to magic show\n",
        "    file,ext = os.path.split(filename)\n",
        "    img = Image.open(filename)\n",
        "    img = img.resize((50,50), Image.ANTIALIAS) # Arrange images size 64x64\n",
        "    data = np.array( img,np.uint8) # Convert images to matrix\n",
        "    data=data.sum(axis=2) # This code deacrease column two from three for each array\n",
        "    dog_files_valid.append(data)\n",
        "#    np.save(\"dog1\",data)\n",
        "#    c = np.load(\"dog1.npy\")\n",
        "#    dog_files_train.append(c)  \n",
        "np.asarray(dog_files_valid) # Convert list to array\n",
        "#np.save(\"dog_train\",dog_files_train) # final form \n",
        "#plt.imshow(dog_files_train[0].reshape(64,64))\n",
        "plt.imshow(dog_files_valid[0], cmap=\"gray\")\n",
        "plt.show()"
      ],
      "execution_count": null,
      "outputs": [
        {
          "output_type": "display_data",
          "data": {
            "image/png": "[encoded data removed]",
            "text/plain": [
              "<Figure size 432x288 with 1 Axes>"
            ]
          },
          "metadata": {
            "tags": [],
            "needs_background": "light"
          }
        }
      ]
    },
    {
      "cell_type": "markdown",
      "metadata": {
        "id": "hajRxBjRtCxN"
      },
      "source": [
        "#### Criando Dataset"
      ]
    },
    {
      "cell_type": "code",
      "metadata": {
        "id": "bEgKMSD0tCxN"
      },
      "source": [
        "#label treino\n",
        "x_cat_label = np.zeros(4000)\n",
        "x_dog_label = np.ones(4000)\n",
        "\n",
        "#label test e validation\n",
        "y_cat_label = np.zeros(500)\n",
        "y_dog_label = np.ones(500)\n",
        "\n",
        "x_train = np.concatenate((cat_files_train,dog_files_train),axis=0)\n",
        "x_test = np.concatenate((x_cat_label,x_dog_label),axis=0).reshape(x_train.shape[0],1)\n",
        "\n",
        "y_train = np.concatenate((cat_files_test,dog_files_test),axis=0)\n",
        "y_test = np.concatenate((y_cat_label,y_dog_label),axis=0).reshape(y_train.shape[0],1)\n",
        "\n",
        "v_train = np.concatenate((cat_files_valid,dog_files_valid),axis=0)\n",
        "v_test = np.concatenate((y_cat_label,y_dog_label),axis=0).reshape(y_train.shape[0],1)\n",
        "\n",
        "#Salvando os Datasets\n",
        "np.save(\"/content/drive/MyDrive/Colab Notebooks/x_train\",x_train)\n",
        "np.save(\"/content/drive/MyDrive/Colab Notebooks/x_test\",x_test)\n",
        "np.save(\"/content/drive/MyDrive/Colab Notebooks/y_train\",y_train)\n",
        "np.save(\"/content/drive/MyDrive/Colab Notebooks/y_test\",y_test)\n",
        "np.save(\"/content/drive/MyDrive/Colab Notebooks/v_train\",v_train)\n",
        "np.save(\"/content/drive/MyDrive/Colab Notebooks/v_test\",v_test)"
      ],
      "execution_count": null,
      "outputs": []
    },
    {
      "cell_type": "code",
      "metadata": {
        "id": "3hnc74VetCxO",
        "colab": {
          "base_uri": "https://localhost:8080/"
        },
        "outputId": "6a3eaedc-e62d-43f9-ab77-bc9feedfc5ed"
      },
      "source": [
        "print(\"x_train \",x_train.shape)\n",
        "print(\"x_test  \",x_test.shape)\n",
        "print(\"y_train \",y_train.shape)\n",
        "print(\"y_test  \",y_test.shape)\n",
        "print(\"v_train \",v_train.shape)\n",
        "print(\"v_test  \",v_test.shape)"
      ],
      "execution_count": null,
      "outputs": [
        {
          "output_type": "stream",
          "text": [
            "x_train  (8000, 50, 50)\n",
            "x_test   (8000, 1)\n",
            "y_train  (1000, 50, 50)\n",
            "y_test   (1000, 1)\n",
            "v_train  (1000, 50, 50)\n",
            "v_test   (1000, 1)\n"
          ],
          "name": "stdout"
        }
      ]
    },
    {
      "cell_type": "markdown",
      "metadata": {
        "id": "dc5ijzvq7MTW"
      },
      "source": [
        "### Treinamento do Modelo"
      ]
    },
    {
      "cell_type": "markdown",
      "metadata": {
        "id": "_HlkGxx6tCxQ"
      },
      "source": [
        "#### Importando Dados para Modelo"
      ]
    },
    {
      "cell_type": "code",
      "metadata": {
        "id": "_MAPO0y9tCxQ"
      },
      "source": [
        "import os; os.environ['TF_CPP_MIN_LOG_LEVEL']='3'\n",
        "# Se acontecer erro \"Failed to get convolution algorithm” coloque o comando abaixo\n",
        "# https://github.com/tensorflow/tensorflow/issues/43174\n",
        "# https://stackoverflow.com/questions/53698035/failed-to-get-convolution-algorithm-this-is-probably-because-cudnn-failed-to-in\n",
        "os.environ['TF_FORCE_GPU_ALLOW_GROWTH'] = 'true'\n",
        "import tensorflow.keras as keras\n",
        "from keras.models import Sequential\n",
        "from keras.layers import Dropout, Conv2D, MaxPooling2D, Dense, Flatten\n",
        "from keras import optimizers\n",
        "import numpy as np; import sys; import os; from time import time"
      ],
      "execution_count": null,
      "outputs": []
    },
    {
      "cell_type": "markdown",
      "metadata": {
        "id": "ieYZo0_UtCxP"
      },
      "source": [
        "#### Carregando Dataset Criado"
      ]
    },
    {
      "cell_type": "code",
      "metadata": {
        "id": "u6vypEuftCxP",
        "scrolled": true
      },
      "source": [
        "AX = np.load(\"/content/drive/MyDrive/Colab Notebooks/x_train.npy\")\n",
        "AY = np.load(\"/content/drive/MyDrive/Colab Notebooks/x_test.npy\")\n",
        "QX = np.load(\"/content/drive/MyDrive/Colab Notebooks/y_train.npy\")\n",
        "QY = np.load(\"/content/drive/MyDrive/Colab Notebooks/y_test.npy\")\n",
        "VX = np.load(\"/content/drive/MyDrive/Colab Notebooks/v_train.npy\")\n",
        "VY = np.load(\"/content/drive/MyDrive/Colab Notebooks/v_test.npy\")"
      ],
      "execution_count": null,
      "outputs": []
    },
    {
      "cell_type": "markdown",
      "metadata": {
        "id": "XPqlvmbI7pjB"
      },
      "source": [
        "#### Normalizando os dados para treinamento"
      ]
    },
    {
      "cell_type": "code",
      "metadata": {
        "id": "c9GHs2RitCxR"
      },
      "source": [
        "nclasses = 2\n",
        "AY2 = keras.utils.to_categorical(AY, nclasses) # 3 -> 0001000000\n",
        "QY2 = keras.utils.to_categorical(QY, nclasses)\n",
        "nl, nc = AX.shape[1], AX.shape[2] #28, 28\n",
        "AX = AX.astype('float32') / 255.0 # 0 a 1\n",
        "QX = QX.astype('float32') / 255.0 # 0 a 1\n",
        "AX = np.expand_dims(AX,axis=3) # AX [60000,28,28,1]\n",
        "QX = np.expand_dims(QX,axis=3)\n",
        "\n",
        "VX2 = VX.astype('float32') / 255.0 # 0 a 1\n",
        "VX2 = np.expand_dims(VX2,axis=3)\n",
        "\n",
        "VY2 = keras.utils.to_categorical(VY, nclasses)"
      ],
      "execution_count": null,
      "outputs": []
    },
    {
      "cell_type": "markdown",
      "metadata": {
        "id": "ksFPJabf7wid"
      },
      "source": [
        "#### Criando o Modelo"
      ]
    },
    {
      "cell_type": "code",
      "metadata": {
        "id": "3POimqPKtCxS"
      },
      "source": [
        "model = Sequential() # 28x28\n",
        "model.add(Conv2D(32, kernel_size=(3,3), padding='same', activation='relu', input_shape=(nl, nc, 1) )) \n",
        "model.add(Conv2D(32, kernel_size=(3,3), padding='valid', activation='relu')) \n",
        "model.add(Dropout(0.2))\n",
        "model.add(MaxPooling2D(strides=2)) \n",
        "model.add(Conv2D(64, kernel_size=(3,3), padding='valid', activation='relu')) \n",
        "model.add(Conv2D(64, kernel_size=(3,3), padding='valid', activation='relu')) \n",
        "model.add(Dropout(0.2))\n",
        "model.add(MaxPooling2D(strides=2)) \n",
        "model.add(Conv2D(128, kernel_size=(3,3), padding='valid', activation='relu')) \n",
        "model.add(Conv2D(128, kernel_size=(3,3), padding='valid', activation='relu')) \n",
        "model.add(Dropout(0.2))\n",
        "model.add(MaxPooling2D(strides=2)) \n",
        "model.add(Flatten()) \n",
        "model.add(Dense(256, activation='relu')) \n",
        "model.add(Dense(128, activation='relu')) \n",
        "model.add(Dense(64, activation='relu')) \n",
        "model.add(Dense(nclasses, activation='softmax')) #10"
      ],
      "execution_count": null,
      "outputs": []
    },
    {
      "cell_type": "markdown",
      "metadata": {
        "id": "-_jD4r7I708v"
      },
      "source": [
        "#### Optimizando o Modelo e Compilando"
      ]
    },
    {
      "cell_type": "code",
      "metadata": {
        "colab": {
          "base_uri": "https://localhost:8080/"
        },
        "id": "Edx7dG7MtCxT",
        "scrolled": true,
        "outputId": "4e350143-b3e0-4b1f-c26e-af94b0912eb4"
      },
      "source": [
        "#from keras.utils import plot_model\n",
        "#plot_model(model, to_file='/content/drive/MyDrive/Colab Notebooks/cnn1.png', show_shapes=True); #exportando o modelo\n",
        "model.summary()\n",
        "opt=optimizers.Adam()\n",
        "model.compile(optimizer=opt, loss='categorical_crossentropy', metrics=['accuracy'])"
      ],
      "execution_count": null,
      "outputs": [
        {
          "output_type": "stream",
          "text": [
            "Model: \"sequential\"\n",
            "_________________________________________________________________\n",
            "Layer (type)                 Output Shape              Param #   \n",
            "=================================================================\n",
            "conv2d (Conv2D)              (None, 50, 50, 32)        320       \n",
            "_________________________________________________________________\n",
            "conv2d_1 (Conv2D)            (None, 48, 48, 32)        9248      \n",
            "_________________________________________________________________\n",
            "dropout (Dropout)            (None, 48, 48, 32)        0         \n",
            "_________________________________________________________________\n",
            "max_pooling2d (MaxPooling2D) (None, 24, 24, 32)        0         \n",
            "_________________________________________________________________\n",
            "conv2d_2 (Conv2D)            (None, 22, 22, 64)        18496     \n",
            "_________________________________________________________________\n",
            "conv2d_3 (Conv2D)            (None, 20, 20, 64)        36928     \n",
            "_________________________________________________________________\n",
            "dropout_1 (Dropout)          (None, 20, 20, 64)        0         \n",
            "_________________________________________________________________\n",
            "max_pooling2d_1 (MaxPooling2 (None, 10, 10, 64)        0         \n",
            "_________________________________________________________________\n",
            "conv2d_4 (Conv2D)            (None, 8, 8, 128)         73856     \n",
            "_________________________________________________________________\n",
            "conv2d_5 (Conv2D)            (None, 6, 6, 128)         147584    \n",
            "_________________________________________________________________\n",
            "dropout_2 (Dropout)          (None, 6, 6, 128)         0         \n",
            "_________________________________________________________________\n",
            "max_pooling2d_2 (MaxPooling2 (None, 3, 3, 128)         0         \n",
            "_________________________________________________________________\n",
            "flatten (Flatten)            (None, 1152)              0         \n",
            "_________________________________________________________________\n",
            "dense (Dense)                (None, 256)               295168    \n",
            "_________________________________________________________________\n",
            "dense_1 (Dense)              (None, 128)               32896     \n",
            "_________________________________________________________________\n",
            "dense_2 (Dense)              (None, 64)                8256      \n",
            "_________________________________________________________________\n",
            "dense_3 (Dense)              (None, 2)                 130       \n",
            "=================================================================\n",
            "Total params: 622,882\n",
            "Trainable params: 622,882\n",
            "Non-trainable params: 0\n",
            "_________________________________________________________________\n"
          ],
          "name": "stdout"
        }
      ]
    },
    {
      "cell_type": "markdown",
      "metadata": {
        "id": "xCpuPqOG757L"
      },
      "source": [
        "#### Treinando o Modelo"
      ]
    },
    {
      "cell_type": "code",
      "metadata": {
        "colab": {
          "base_uri": "https://localhost:8080/"
        },
        "id": "eUpPJbfbtCxT",
        "scrolled": true,
        "outputId": "3b45f6a2-b7f4-4ff4-a08f-3e8d7762d8b6"
      },
      "source": [
        "t0=time()\n",
        "history = model.fit(AX, AY2, batch_size=100, epochs=10, verbose=2, validation_data=(VX2, VY2))\n",
        "t1=time(); print(\"Tempo de treino: %.2f s\"%(t1-t0))"
      ],
      "execution_count": null,
      "outputs": [
        {
          "output_type": "stream",
          "text": [
            "Epoch 1/10\n",
            "80/80 - 46s - loss: 0.6938 - accuracy: 0.5111 - val_loss: 0.6922 - val_accuracy: 0.5000\n",
            "Epoch 2/10\n",
            "80/80 - 1s - loss: 0.6925 - accuracy: 0.5126 - val_loss: 0.6925 - val_accuracy: 0.5000\n",
            "Epoch 3/10\n",
            "80/80 - 1s - loss: 0.6898 - accuracy: 0.5146 - val_loss: 0.6883 - val_accuracy: 0.5210\n",
            "Epoch 4/10\n",
            "80/80 - 1s - loss: 0.6783 - accuracy: 0.5700 - val_loss: 0.6764 - val_accuracy: 0.5840\n",
            "Epoch 5/10\n",
            "80/80 - 1s - loss: 0.6586 - accuracy: 0.6133 - val_loss: 0.6412 - val_accuracy: 0.6520\n",
            "Epoch 6/10\n",
            "80/80 - 1s - loss: 0.6326 - accuracy: 0.6436 - val_loss: 0.6038 - val_accuracy: 0.6810\n",
            "Epoch 7/10\n",
            "80/80 - 1s - loss: 0.5825 - accuracy: 0.6959 - val_loss: 0.5747 - val_accuracy: 0.7240\n",
            "Epoch 8/10\n",
            "80/80 - 1s - loss: 0.5261 - accuracy: 0.7395 - val_loss: 0.5523 - val_accuracy: 0.7550\n",
            "Epoch 9/10\n",
            "80/80 - 1s - loss: 0.4889 - accuracy: 0.7632 - val_loss: 0.4894 - val_accuracy: 0.7770\n",
            "Epoch 10/10\n",
            "80/80 - 1s - loss: 0.4363 - accuracy: 0.7947 - val_loss: 0.4678 - val_accuracy: 0.7860\n",
            "Tempo de treino: 59.23 s\n"
          ],
          "name": "stdout"
        }
      ]
    },
    {
      "cell_type": "markdown",
      "metadata": {
        "id": "VEx_3iKk79fJ"
      },
      "source": [
        "#### Salvando o Modelo"
      ]
    },
    {
      "cell_type": "code",
      "metadata": {
        "id": "QfQiwVIGyjRq"
      },
      "source": [
        "model.save('/content/drive/MyDrive/Colab Notebooks/zero.h5')"
      ],
      "execution_count": null,
      "outputs": []
    },
    {
      "cell_type": "markdown",
      "metadata": {
        "id": "vvGLGXtkkHum"
      },
      "source": [
        "#### Evolução para verificar se ocorreu overfitting "
      ]
    },
    {
      "cell_type": "code",
      "metadata": {
        "colab": {
          "base_uri": "https://localhost:8080/",
          "height": 276
        },
        "id": "3bY_RSpPl8wj",
        "outputId": "eea31805-a6be-4c35-977c-fd8c3097cca0"
      },
      "source": [
        "plt.figure(1, figsize = (15,8)) \n",
        "    \n",
        "plt.subplot(221)  \n",
        "plt.plot(history.history['accuracy'])  \n",
        "plt.plot(history.history['val_accuracy'])  \n",
        "plt.title('model accuracy')  \n",
        "plt.ylabel('accuracy')  \n",
        "plt.xlabel('epoch')  \n",
        "plt.legend(['train', 'valid']) \n",
        "    \n",
        "plt.subplot(222)  \n",
        "plt.plot(history.history['loss'])  \n",
        "plt.plot(history.history['val_loss'])  \n",
        "plt.title('model loss')  \n",
        "plt.ylabel('loss')  \n",
        "plt.xlabel('epoch')  \n",
        "plt.legend(['train', 'valid']) \n",
        "\n",
        "plt.show()"
      ],
      "execution_count": null,
      "outputs": [
        {
          "output_type": "display_data",
          "data": {
            "image/png": "[encoded data removed]",
            "text/plain": [
              "<Figure size 1080x576 with 2 Axes>"
            ]
          },
          "metadata": {
            "tags": []
          }
        }
      ]
    }
  ]
}